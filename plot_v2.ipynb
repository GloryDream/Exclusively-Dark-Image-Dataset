{
 "cells": [
  {
   "cell_type": "code",
   "execution_count": 1,
   "metadata": {},
   "outputs": [],
   "source": [
    "import numpy as np\n",
    "import matplotlib.pyplot as plt\n",
    "from PIL import Image\n",
    "import matplotlib.patches as patches\n",
    "import numpy as np\n",
    "from imageio import imread\n",
    "import os\n",
    "from matplotlib.transforms import Bbox\n",
    "from skimage.transform import rescale, resize, downscale_local_mean"
   ]
  },
  {
   "cell_type": "code",
   "execution_count": 2,
   "metadata": {},
   "outputs": [],
   "source": [
    "def file_name(file_dir, form='png'):\n",
    "\tfile_list = []\n",
    "\tfor root, dirs, files in os.walk(file_dir):\n",
    "\t\tfor file in files:\n",
    "\t\t\tif os.path.splitext(file)[1] == '.' + form:\n",
    "\t\t\t\tfile_list.append(os.path.join(root, file))\n",
    "\treturn sorted(file_list)\n",
    "\n",
    "def full_extent(ax, pad=0.0):\n",
    "    \"\"\"Get the full extent of an axes, including axes labels, tick labels, and\n",
    "    titles.\"\"\"\n",
    "    # For text objects, we need to draw the figure first, otherwise the extents\n",
    "    # are undefined.\n",
    "    ax.figure.canvas.draw()\n",
    "    items = ax.get_xticklabels() + ax.get_yticklabels() \n",
    "#    items += [ax, ax.title, ax.xaxis.label, ax.yaxis.label]\n",
    "    items += [ax, ax.title]\n",
    "    bbox = Bbox.union([item.get_window_extent() for item in items])\n",
    "\n",
    "    return bbox.expanded(1.0 + pad, 1.0 + pad)"
   ]
  },
  {
   "cell_type": "code",
   "execution_count": 3,
   "metadata": {},
   "outputs": [],
   "source": [
    "from PIL import Image, ImageChops\n",
    "\n",
    "def trim(im):\n",
    "    bg = Image.new(im.mode, im.size, im.getpixel((0,0)))\n",
    "    diff = ImageChops.difference(im, bg)\n",
    "    diff = ImageChops.add(diff, diff, 2.0, -100)\n",
    "    bbox = diff.getbbox()\n",
    "    if bbox:\n",
    "        return im.crop(bbox)\n",
    "\n",
    "# im = Image.open(\"bord3.jpg\")\n",
    "# im = trim(im)\n",
    "# im.show()"
   ]
  },
  {
   "cell_type": "code",
   "execution_count": 5,
   "metadata": {},
   "outputs": [],
   "source": [
    "img_names = file_name('/Users/gongxinyu/Desktop/ComputerScience/yifan/compare_pdf/5/bbox', 'png')\n",
    "prefix = '/Users/gongxinyu/Desktop/ComputerScience/yifan/compare_pdf/5/bbox_nowhite'\n",
    "for img_name in img_names:\n",
    "    im = Image.open(img_name)\n",
    "    im = trim(im)\n",
    "#     im.show()\n",
    "    im.save(os.path.join(prefix, img_name.split('/')[-1]),\"PNG\")"
   ]
  },
  {
   "cell_type": "code",
   "execution_count": 10,
   "metadata": {},
   "outputs": [],
   "source": [
    "img_names = file_name('/Users/gongxinyu/Desktop/ComputerScience/yifan/compare_pdf/Kluki/bbox', 'png')\n",
    "prefix = '/Users/gongxinyu/Desktop/ComputerScience/yifan/compare_pdf/Kluki/bbox_nowhite'\n",
    "for img_name in img_names:\n",
    "    im = Image.open(img_name)\n",
    "    im = trim(im)\n",
    "#     im.show()\n",
    "    im.save(os.path.join(prefix, img_name.split('/')[-1]),\"PNG\")"
   ]
  },
  {
   "cell_type": "code",
   "execution_count": 8,
   "metadata": {},
   "outputs": [
    {
     "data": {
      "text/plain": [
       "['/Users/gongxinyu/Desktop/ComputerScience/yifan/compare_pdf/Kluki/bbox/Kluki__Ours_bbox.png',\n",
       " '/Users/gongxinyu/Desktop/ComputerScience/yifan/compare_pdf/Kluki/bbox/Kluki__Ours_p2.png',\n",
       " '/Users/gongxinyu/Desktop/ComputerScience/yifan/compare_pdf/Kluki/bbox/Kluki__Ours_p3.png',\n",
       " '/Users/gongxinyu/Desktop/ComputerScience/yifan/compare_pdf/Kluki/bbox/Kluki__input_bbox.png',\n",
       " '/Users/gongxinyu/Desktop/ComputerScience/yifan/compare_pdf/Kluki/bbox/Kluki__input_p2.png',\n",
       " '/Users/gongxinyu/Desktop/ComputerScience/yifan/compare_pdf/Kluki/bbox/Kluki__input_p3.png',\n",
       " '/Users/gongxinyu/Desktop/ComputerScience/yifan/compare_pdf/Kluki/bbox/Kluki__lime_bbox.png',\n",
       " '/Users/gongxinyu/Desktop/ComputerScience/yifan/compare_pdf/Kluki/bbox/Kluki__lime_p2.png',\n",
       " '/Users/gongxinyu/Desktop/ComputerScience/yifan/compare_pdf/Kluki/bbox/Kluki__lime_p3.png',\n",
       " '/Users/gongxinyu/Desktop/ComputerScience/yifan/compare_pdf/Kluki/bbox/Kluki__npe_bbox.png',\n",
       " '/Users/gongxinyu/Desktop/ComputerScience/yifan/compare_pdf/Kluki/bbox/Kluki__npe_p2.png',\n",
       " '/Users/gongxinyu/Desktop/ComputerScience/yifan/compare_pdf/Kluki/bbox/Kluki__npe_p3.png',\n",
       " '/Users/gongxinyu/Desktop/ComputerScience/yifan/compare_pdf/Kluki/bbox/Kluki__srie_bbox.png',\n",
       " '/Users/gongxinyu/Desktop/ComputerScience/yifan/compare_pdf/Kluki/bbox/Kluki__srie_p2.png',\n",
       " '/Users/gongxinyu/Desktop/ComputerScience/yifan/compare_pdf/Kluki/bbox/Kluki__srie_p3.png',\n",
       " '/Users/gongxinyu/Desktop/ComputerScience/yifan/compare_pdf/Kluki/bbox/kluki__RetinexNet_bbox.png',\n",
       " '/Users/gongxinyu/Desktop/ComputerScience/yifan/compare_pdf/Kluki/bbox/kluki__RetinexNet_p2.png',\n",
       " '/Users/gongxinyu/Desktop/ComputerScience/yifan/compare_pdf/Kluki/bbox/kluki__RetinexNet_p3.png']"
      ]
     },
     "execution_count": 8,
     "metadata": {},
     "output_type": "execute_result"
    }
   ],
   "source": [
    "img_names"
   ]
  },
  {
   "cell_type": "code",
   "execution_count": 14,
   "metadata": {},
   "outputs": [],
   "source": [
    "img_names = file_name('/Users/gongxinyu/Desktop/ComputerScience/yifan/compare_pdf_bbox_v1/P1040134/bbox', 'png')\n",
    "prefix = '/Users/gongxinyu/Desktop/ComputerScience/yifan/compare_pdf_bbox_v1/P1040134/bbox_nowhite'\n",
    "for img_name in img_names:\n",
    "    im = Image.open(img_name)\n",
    "    im = trim(im)\n",
    "    im.show()\n",
    "    im.save(os.path.join(prefix, img_name.split('/')[-1]),\"PNG\")"
   ]
  },
  {
   "cell_type": "code",
   "execution_count": 11,
   "metadata": {},
   "outputs": [],
   "source": [
    "img_names = file_name('/Users/gongxinyu/Desktop/ComputerScience/yifan/compare_pdf/Tower/bbox', 'png')\n",
    "prefix = '/Users/gongxinyu/Desktop/ComputerScience/yifan/compare_pdf/Tower/bbox_nowhite'\n",
    "for img_name in img_names:\n",
    "    im = Image.open(img_name)\n",
    "    im = trim(im)\n",
    "#     im.show()\n",
    "    im.save(os.path.join(prefix, img_name.split('/')[-1]),\"PNG\")"
   ]
  },
  {
   "cell_type": "code",
   "execution_count": 26,
   "metadata": {},
   "outputs": [
    {
     "name": "stdout",
     "output_type": "stream",
     "text": [
      "/Users/gongxinyu/Desktop/ComputerScience/yifan/compare_pdf_bbox_v1/Tower/bbox/Tower__Ours_p.png\n"
     ]
    }
   ],
   "source": [
    "print(img_name)\n"
   ]
  },
  {
   "cell_type": "code",
   "execution_count": 27,
   "metadata": {},
   "outputs": [
    {
     "ename": "TypeError",
     "evalue": "'map' object is not subscriptable",
     "output_type": "error",
     "traceback": [
      "\u001b[0;31m---------------------------------------------------------------------------\u001b[0m",
      "\u001b[0;31mTypeError\u001b[0m                                 Traceback (most recent call last)",
      "\u001b[0;32m<ipython-input-27-f09ff495555e>\u001b[0m in \u001b[0;36m<module>\u001b[0;34m()\u001b[0m\n\u001b[1;32m      7\u001b[0m \u001b[0mpix\u001b[0m \u001b[0;34m=\u001b[0m \u001b[0mpix\u001b[0m\u001b[0;34m[\u001b[0m\u001b[0;34m:\u001b[0m\u001b[0;34m,\u001b[0m\u001b[0;34m:\u001b[0m\u001b[0;34m,\u001b[0m\u001b[0;36m0\u001b[0m\u001b[0;34m:\u001b[0m\u001b[0;36m3\u001b[0m\u001b[0;34m]\u001b[0m \u001b[0;31m# Drop the alpha channel\u001b[0m\u001b[0;34m\u001b[0m\u001b[0m\n\u001b[1;32m      8\u001b[0m \u001b[0midx\u001b[0m \u001b[0;34m=\u001b[0m \u001b[0mnp\u001b[0m\u001b[0;34m.\u001b[0m\u001b[0mwhere\u001b[0m\u001b[0;34m(\u001b[0m\u001b[0mpix\u001b[0m\u001b[0;34m-\u001b[0m\u001b[0;36m255\u001b[0m\u001b[0;34m)\u001b[0m\u001b[0;34m[\u001b[0m\u001b[0;36m0\u001b[0m\u001b[0;34m:\u001b[0m\u001b[0;36m2\u001b[0m\u001b[0;34m]\u001b[0m \u001b[0;31m# Drop the color when finding edges\u001b[0m\u001b[0;34m\u001b[0m\u001b[0m\n\u001b[0;32m----> 9\u001b[0;31m \u001b[0mbox\u001b[0m \u001b[0;34m=\u001b[0m \u001b[0mmap\u001b[0m\u001b[0;34m(\u001b[0m\u001b[0mmin\u001b[0m\u001b[0;34m,\u001b[0m\u001b[0midx\u001b[0m\u001b[0;34m)\u001b[0m\u001b[0;34m[\u001b[0m\u001b[0;34m:\u001b[0m\u001b[0;34m:\u001b[0m\u001b[0;34m-\u001b[0m\u001b[0;36m1\u001b[0m\u001b[0;34m]\u001b[0m \u001b[0;34m+\u001b[0m \u001b[0mmap\u001b[0m\u001b[0;34m(\u001b[0m\u001b[0mmax\u001b[0m\u001b[0;34m,\u001b[0m\u001b[0midx\u001b[0m\u001b[0;34m)\u001b[0m\u001b[0;34m[\u001b[0m\u001b[0;34m:\u001b[0m\u001b[0;34m:\u001b[0m\u001b[0;34m-\u001b[0m\u001b[0;36m1\u001b[0m\u001b[0;34m]\u001b[0m\u001b[0;34m\u001b[0m\u001b[0m\n\u001b[0m\u001b[1;32m     10\u001b[0m \u001b[0;34m\u001b[0m\u001b[0m\n\u001b[1;32m     11\u001b[0m \u001b[0mregion\u001b[0m \u001b[0;34m=\u001b[0m \u001b[0mim\u001b[0m\u001b[0;34m.\u001b[0m\u001b[0mcrop\u001b[0m\u001b[0;34m(\u001b[0m\u001b[0mbox\u001b[0m\u001b[0;34m)\u001b[0m\u001b[0;34m\u001b[0m\u001b[0m\n",
      "\u001b[0;31mTypeError\u001b[0m: 'map' object is not subscriptable"
     ]
    }
   ],
   "source": [
    "im = Image.open(img_name)\n",
    "im = trim(im)\n",
    "#     im.show()\n",
    "im.save(os.path.join(prefix, img_name.split('/')[-1]),\"PNG\")"
   ]
  },
  {
   "cell_type": "code",
   "execution_count": null,
   "metadata": {},
   "outputs": [],
   "source": []
  }
 ],
 "metadata": {
  "kernelspec": {
   "display_name": "Python 3",
   "language": "python",
   "name": "python3"
  },
  "language_info": {
   "codemirror_mode": {
    "name": "ipython",
    "version": 3
   },
   "file_extension": ".py",
   "mimetype": "text/x-python",
   "name": "python",
   "nbconvert_exporter": "python",
   "pygments_lexer": "ipython3",
   "version": "3.6.4"
  }
 },
 "nbformat": 4,
 "nbformat_minor": 2
}
